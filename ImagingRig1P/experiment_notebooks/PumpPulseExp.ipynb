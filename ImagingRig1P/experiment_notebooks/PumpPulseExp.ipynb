{
 "cells": [
  {
   "cell_type": "code",
   "execution_count": 1,
   "id": "8b5aa4b4-5c03-4f0e-90b9-039643eaefc8",
   "metadata": {},
   "outputs": [],
   "source": [
    "import os\n",
    "\n",
    "import numpy as np\n",
    "import pandas as pd\n",
    "from matplotlib import pyplot as plt \n",
    "import napari\n",
    "\n",
    "import ImagingRig1P as irp\n",
    "\n",
    "%matplotlib qt\n",
    "%load_ext autoreload\n",
    "%autoreload 2"
   ]
  },
  {
   "cell_type": "markdown",
   "id": "3b4ad19f-0c5f-4290-8eab-f22865f2666f",
   "metadata": {},
   "source": [
    "### Set scan information\n",
    "Imaging with 450 nM LED and performing pressure injection with WPI PV850"
   ]
  },
  {
   "cell_type": "code",
   "execution_count": 2,
   "id": "be3e2b60-719a-4cc9-88e0-80ad03c00a81",
   "metadata": {},
   "outputs": [],
   "source": [
    "genotype = 'test'\n",
    "date = '28_10_2024'\n",
    "fly = 'fly1'"
   ]
  },
  {
   "cell_type": "code",
   "execution_count": 4,
   "id": "b3ff2b96-7528-409f-b689-b5b5371da679",
   "metadata": {},
   "outputs": [],
   "source": [
    "# set stimulation parameters\n",
    "scan_info = {'scan_name': 'pump_pulse',\n",
    "            'led450': np.nan, # power in CoolLED units\n",
    "            'led550': np.nan, # power in CoolLED units\n",
    "            'pump_compensation_pressure': np.nan, # PSI\n",
    "            'pump_injection_pressure': np.nan, # PSI\n",
    "            'pump_injection_duration': np.nan, # seconds, set on PV850 touch screen\n",
    "            'sample_rate': 10000, # Hz\n",
    "            'duration': 10, # s\n",
    "            }\n",
    "\n",
    "pump_params = {'inter_stim_interval': 5, # seconds, time between rising edges of opto stim\n",
    "                    'init_delay': 3, # seconds\n",
    "                    'duration': .1, # seconds, This value only affects the pin behavior not the actual pump duration\n",
    "                   }\n",
    "scan_info['pump_params'] = pump_params"
   ]
  },
  {
   "cell_type": "code",
   "execution_count": 5,
   "id": "dce7775c-cd00-4be1-bd51-7d82dd47df69",
   "metadata": {},
   "outputs": [
    {
     "name": "stdout",
     "output_type": "stream",
     "text": [
      "D:\\test\\28_10_2024\\fly1\\pump_pulse_0.tdms\n"
     ]
    }
   ],
   "source": [
    "# number of samples in recording\n",
    "n_samples = int(scan_info['sample_rate']*scan_info['duration'])\n",
    "\n",
    "# time array\n",
    "time = np.arange(0,scan_info['duration'],1./scan_info['sample_rate'])\n",
    "\n",
    "# digital outputs\n",
    "do_data = {'camera_trigger': np.zeros([n_samples,]),\n",
    "           'led450_trigger': np.zeros([n_samples,]), # imaging\n",
    "           'led550_trigger': np.zeros([n_samples,]), # opto\n",
    "           'pump_trigger': np.zeros([n_samples,]), \n",
    "           }\n",
    "\n",
    "# trigger camera\n",
    "do_data['camera_trigger'][1:5000]=1\n",
    "\n",
    "# imaging led\n",
    "do_data['led450_trigger'][:-1]=1\n",
    "\n",
    "\n",
    "\n",
    "# pump stim\n",
    "start_times = np.arange(pump_params['init_delay'], scan_info['duration'], pump_params['inter_stim_interval'])\n",
    "end_times = start_times+pump_params['duration']\n",
    "for s, e in zip(start_times,end_times):\n",
    "    t_s, t_e = np.argmin(np.abs(time-s)), np.argmin(np.abs(time-e))\n",
    "    do_data['pump_trigger'][t_s:t_e]=1\n",
    "\n",
    "\n",
    "# set filename\n",
    "os.makedirs(f\"D:\\\\{genotype}\\\\{date}\\\\{fly}\\\\\", exist_ok=True)\n",
    "num = 0\n",
    "out_dir = f\"D:\\\\{genotype}\\\\{date}\\\\{fly}\\\\{scan_info['scan_name']}_{num}.tdms\"\n",
    "while os.path.exists(out_dir):\n",
    "    num +=1 \n",
    "    out_dir = f\"D:\\\\{genotype}\\\\{date}\\\\{fly}\\\\{scan_info['scan_name']}_{num}.tdms\"\n",
    "print(out_dir)"
   ]
  },
  {
   "cell_type": "markdown",
   "id": "2d26e82c-2a5d-46ec-babf-5ea05da03b3b",
   "metadata": {},
   "source": [
    "# Run Experiment\n",
    "\n",
    "# HC Image Live scan checklist\n",
    "\n",
    "\n",
    "- Capture Pane:\n",
    "\n",
    "  - Binning & SubArray \n",
    "    - Set binning to 2\n",
    "    - Set sub-array size to minimal size to get desired FOV\n",
    "  - Camera Control\n",
    "    - Set exposure to get desired frame rate\n",
    "  - Trigger Modes, Speed, & Registration\n",
    "      - Make sure Speed is set to \"Fast\"\n",
    "      - Capture Mode\n",
    "        - Area\n",
    "        - Internal while finding field of view\n",
    "        - External: Start Trigger for data collection\n",
    "      - Ouput Trigger\n",
    "        - line 1\n",
    "        - output trigger\n",
    "        - kind=PROGRAMMABLE\n",
    "        - Programmable Trigger Options: Delay=0, Period=1.0 ms, Source=READOUT END\n",
    "- Sequence Pane:\n",
    "  - Select Scan Type = High Speed Streaming\n",
    "  - Scan Settings\n",
    "    - Frame Count: Set to high enough value such that \"Best Time\">scan_info['duration']\n",
    "    - RAM\n",
    "    - check autosave\n",
    "      - \"...\" to set save directory and filename\n",
    "        - recommend to make the directory the same as tdms file\n",
    "      - MPTIFF enabled\n",
    "\n",
    "### When you're ready to collect data, set \"Capture Mode\" trigger to \"External: Start Trigger\". Hit \"Start\" on Sequence Pane. Then run cell below."
   ]
  },
  {
   "cell_type": "code",
   "execution_count": 6,
   "id": "62024cd4-c693-4e64-8d13-389b1e1520c3",
   "metadata": {},
   "outputs": [
    {
     "name": "stdout",
     "output_type": "stream",
     "text": [
      "(4, 100000)\n"
     ]
    }
   ],
   "source": [
    "exp = irp.experiment_builder.Experiment(do_data, out_dir,\n",
    "                                        sample_rate = scan_info['sample_rate'], duration = scan_info['duration'])\n",
    "exp.run_tasks()"
   ]
  },
  {
   "cell_type": "markdown",
   "id": "2fe38883-4375-4683-bb17-7625789787ec",
   "metadata": {},
   "source": [
    "### Load TDMS file and convert to pandas dataframe"
   ]
  },
  {
   "cell_type": "code",
   "execution_count": 8,
   "id": "9aa4eed7-5e2e-455a-b590-426b435e3756",
   "metadata": {},
   "outputs": [],
   "source": [
    "#convert to dataframe\n",
    "df = exp.tdms_to_dataframe()"
   ]
  },
  {
   "cell_type": "code",
   "execution_count": 9,
   "id": "b7340a89-1110-437a-8d50-d925ce34da15",
   "metadata": {},
   "outputs": [],
   "source": [
    "# save dataframe with scan info as pickle file\n",
    "exp.save_dataframe(df, scan_info)"
   ]
  },
  {
   "cell_type": "code",
   "execution_count": 10,
   "id": "e00df055-e94a-4811-8957-eee1762de1a4",
   "metadata": {},
   "outputs": [
    {
     "data": {
      "text/html": [
       "<div>\n",
       "<style scoped>\n",
       "    .dataframe tbody tr th:only-of-type {\n",
       "        vertical-align: middle;\n",
       "    }\n",
       "\n",
       "    .dataframe tbody tr th {\n",
       "        vertical-align: top;\n",
       "    }\n",
       "\n",
       "    .dataframe thead th {\n",
       "        text-align: right;\n",
       "    }\n",
       "</style>\n",
       "<table border=\"1\" class=\"dataframe\">\n",
       "  <thead>\n",
       "    <tr style=\"text-align: right;\">\n",
       "      <th></th>\n",
       "      <th>time</th>\n",
       "      <th>camera_trigger</th>\n",
       "      <th>led450_trigger</th>\n",
       "      <th>led550_trigger</th>\n",
       "      <th>pump_trigger</th>\n",
       "      <th>camera_output</th>\n",
       "    </tr>\n",
       "  </thead>\n",
       "  <tbody>\n",
       "    <tr>\n",
       "      <th>0</th>\n",
       "      <td>0.0000</td>\n",
       "      <td>5.027263</td>\n",
       "      <td>4.959845</td>\n",
       "      <td>-0.000041</td>\n",
       "      <td>3.975950</td>\n",
       "      <td>0.008325</td>\n",
       "    </tr>\n",
       "    <tr>\n",
       "      <th>1</th>\n",
       "      <td>0.0001</td>\n",
       "      <td>5.019861</td>\n",
       "      <td>4.951479</td>\n",
       "      <td>-0.000041</td>\n",
       "      <td>3.970640</td>\n",
       "      <td>0.008647</td>\n",
       "    </tr>\n",
       "    <tr>\n",
       "      <th>2</th>\n",
       "      <td>0.0002</td>\n",
       "      <td>5.013586</td>\n",
       "      <td>4.945525</td>\n",
       "      <td>-0.000041</td>\n",
       "      <td>3.969514</td>\n",
       "      <td>0.008969</td>\n",
       "    </tr>\n",
       "    <tr>\n",
       "      <th>3</th>\n",
       "      <td>0.0003</td>\n",
       "      <td>5.005541</td>\n",
       "      <td>4.938124</td>\n",
       "      <td>0.000602</td>\n",
       "      <td>3.967583</td>\n",
       "      <td>0.009612</td>\n",
       "    </tr>\n",
       "    <tr>\n",
       "      <th>4</th>\n",
       "      <td>0.0004</td>\n",
       "      <td>4.997979</td>\n",
       "      <td>4.930401</td>\n",
       "      <td>0.000441</td>\n",
       "      <td>3.963561</td>\n",
       "      <td>0.009130</td>\n",
       "    </tr>\n",
       "  </tbody>\n",
       "</table>\n",
       "</div>"
      ],
      "text/plain": [
       "     time  camera_trigger  led450_trigger  led550_trigger  pump_trigger  \\\n",
       "0  0.0000        5.027263        4.959845       -0.000041      3.975950   \n",
       "1  0.0001        5.019861        4.951479       -0.000041      3.970640   \n",
       "2  0.0002        5.013586        4.945525       -0.000041      3.969514   \n",
       "3  0.0003        5.005541        4.938124        0.000602      3.967583   \n",
       "4  0.0004        4.997979        4.930401        0.000441      3.963561   \n",
       "\n",
       "   camera_output  \n",
       "0       0.008325  \n",
       "1       0.008647  \n",
       "2       0.008969  \n",
       "3       0.009612  \n",
       "4       0.009130  "
      ]
     },
     "execution_count": 10,
     "metadata": {},
     "output_type": "execute_result"
    }
   ],
   "source": [
    "# check formatting of pandas array\n",
    "df.head()"
   ]
  },
  {
   "cell_type": "code",
   "execution_count": 12,
   "id": "eb96fb28-bc92-401f-99ed-7f5572040729",
   "metadata": {},
   "outputs": [],
   "source": [
    "# plot \n",
    "fig, ax = plt.subplots()\n",
    "ax.plot(df['time'], df['camera_trigger'])\n",
    "ax.plot(df['time'], df['led450_trigger'])\n",
    "ax.plot(df['time'], df['pump_trigger'])\n",
    "ax.plot(df['time'], df['camera_output'])\n",
    "ax.set_xlabel('Time (s)')\n",
    "fig.show()"
   ]
  },
  {
   "cell_type": "markdown",
   "id": "174d9f49-d642-4fb0-97a3-844e7c0b4f8c",
   "metadata": {},
   "source": [
    "### Quick analysis of imaging data that was just saved\n",
    "\n",
    "Make sure to update mptiff_filepath to the tiff file that you saved\n"
   ]
  },
  {
   "cell_type": "code",
   "execution_count": 13,
   "id": "1cbfb335-f4cb-46b2-9e75-5d80bc687ea8",
   "metadata": {},
   "outputs": [
    {
     "ename": "FileNotFoundError",
     "evalue": "[Errno 2] No such file or directory: 'D:\\\\test\\\\28_10_2024\\\\fly1\\\\pump_pulse_.mptiff'",
     "output_type": "error",
     "traceback": [
      "\u001b[1;31m---------------------------------------------------------------------------\u001b[0m",
      "\u001b[1;31mFileNotFoundError\u001b[0m                         Traceback (most recent call last)",
      "Cell \u001b[1;32mIn[13], line 6\u001b[0m\n\u001b[0;32m      2\u001b[0m mptiff_filepath \u001b[38;5;241m=\u001b[39m \u001b[38;5;124mf\u001b[39m\u001b[38;5;124m\"\u001b[39m\u001b[38;5;124mD:\u001b[39m\u001b[38;5;130;01m\\\\\u001b[39;00m\u001b[38;5;132;01m{\u001b[39;00mgenotype\u001b[38;5;132;01m}\u001b[39;00m\u001b[38;5;130;01m\\\\\u001b[39;00m\u001b[38;5;132;01m{\u001b[39;00mdate\u001b[38;5;132;01m}\u001b[39;00m\u001b[38;5;130;01m\\\\\u001b[39;00m\u001b[38;5;132;01m{\u001b[39;00mfly\u001b[38;5;132;01m}\u001b[39;00m\u001b[38;5;130;01m\\\\\u001b[39;00m\u001b[38;5;132;01m{\u001b[39;00mscan_info[\u001b[38;5;124m'\u001b[39m\u001b[38;5;124mscan_name\u001b[39m\u001b[38;5;124m'\u001b[39m]\u001b[38;5;132;01m}\u001b[39;00m\u001b[38;5;124m_.mptiff\u001b[39m\u001b[38;5;124m\"\u001b[39m\n\u001b[0;32m      5\u001b[0m \u001b[38;5;66;03m# load imaging data\u001b[39;00m\n\u001b[1;32m----> 6\u001b[0m imarr \u001b[38;5;241m=\u001b[39m irp\u001b[38;5;241m.\u001b[39mtools\u001b[38;5;241m.\u001b[39mopen_multipage_tiff(mptiff_filepath)\n\u001b[0;32m      8\u001b[0m cam_output_bool \u001b[38;5;241m=\u001b[39m df[\u001b[38;5;124m'\u001b[39m\u001b[38;5;124mcamera_output\u001b[39m\u001b[38;5;124m'\u001b[39m]\u001b[38;5;241m>\u001b[39m\u001b[38;5;241m1\u001b[39m\n\u001b[0;32m      9\u001b[0m frame_times \u001b[38;5;241m=\u001b[39m df[\u001b[38;5;124m'\u001b[39m\u001b[38;5;124mtime\u001b[39m\u001b[38;5;124m'\u001b[39m][np\u001b[38;5;241m.\u001b[39mediff(cam_output_bool,to_end\u001b[38;5;241m=\u001b[39m\u001b[38;5;241m0\u001b[39m)\u001b[38;5;241m>\u001b[39m\u001b[38;5;241m0\u001b[39m]\n",
      "File \u001b[1;32mc:\\users\\fisherlab\\repos\\1pimagingrig\\ImagingRig1P\\tools.py:15\u001b[0m, in \u001b[0;36mopen_multipage_tiff\u001b[1;34m(filepath)\u001b[0m\n\u001b[0;32m      5\u001b[0m \u001b[38;5;28;01mdef\u001b[39;00m \u001b[38;5;21mopen_multipage_tiff\u001b[39m(filepath):\n\u001b[0;32m      6\u001b[0m \u001b[38;5;250m    \u001b[39m\u001b[38;5;124;03m\"\"\"_summary_\u001b[39;00m\n\u001b[0;32m      7\u001b[0m \n\u001b[0;32m      8\u001b[0m \u001b[38;5;124;03m    Args:\u001b[39;00m\n\u001b[1;32m   (...)\u001b[0m\n\u001b[0;32m     12\u001b[0m \u001b[38;5;124;03m        _type_: _description_\u001b[39;00m\n\u001b[0;32m     13\u001b[0m \u001b[38;5;124;03m    \"\"\"\u001b[39;00m\n\u001b[1;32m---> 15\u001b[0m     img \u001b[38;5;241m=\u001b[39m PIL\u001b[38;5;241m.\u001b[39mImage\u001b[38;5;241m.\u001b[39mopen(filepath)\n\u001b[0;32m     16\u001b[0m     images \u001b[38;5;241m=\u001b[39m []\n\u001b[0;32m     18\u001b[0m     \u001b[38;5;28;01mtry\u001b[39;00m:\n",
      "File \u001b[1;32m~\\anaconda3\\envs\\ImagingRig1P\\Lib\\site-packages\\PIL\\Image.py:3431\u001b[0m, in \u001b[0;36mopen\u001b[1;34m(fp, mode, formats)\u001b[0m\n\u001b[0;32m   3428\u001b[0m     filename \u001b[38;5;241m=\u001b[39m os\u001b[38;5;241m.\u001b[39mpath\u001b[38;5;241m.\u001b[39mrealpath(os\u001b[38;5;241m.\u001b[39mfspath(fp))\n\u001b[0;32m   3430\u001b[0m \u001b[38;5;28;01mif\u001b[39;00m filename:\n\u001b[1;32m-> 3431\u001b[0m     fp \u001b[38;5;241m=\u001b[39m builtins\u001b[38;5;241m.\u001b[39mopen(filename, \u001b[38;5;124m\"\u001b[39m\u001b[38;5;124mrb\u001b[39m\u001b[38;5;124m\"\u001b[39m)\n\u001b[0;32m   3432\u001b[0m     exclusive_fp \u001b[38;5;241m=\u001b[39m \u001b[38;5;28;01mTrue\u001b[39;00m\n\u001b[0;32m   3433\u001b[0m \u001b[38;5;28;01melse\u001b[39;00m:\n",
      "\u001b[1;31mFileNotFoundError\u001b[0m: [Errno 2] No such file or directory: 'D:\\\\test\\\\28_10_2024\\\\fly1\\\\pump_pulse_.mptiff'"
     ]
    }
   ],
   "source": [
    "# path to imaging file\n",
    "mptiff_filepath = f\"D:\\\\{genotype}\\\\{date}\\\\{fly}\\\\{scan_info['scan_name']}_.mptiff\"\n",
    "\n",
    "\n",
    "# load imaging data\n",
    "imarr = irp.tools.open_multipage_tiff(mptiff_filepath)\n",
    "\n",
    "cam_output_bool = 1*(df['camera_output']>1)\n",
    "frame_times = df['time'][np.ediff1d(cam_output_bool,to_begin=0)>0]\n",
    "frames_in_nidaq = frame_times.shape[0]"
   ]
  },
  {
   "cell_type": "markdown",
   "id": "7bc98c11-e21d-4eec-bc54-61d0d5261fb1",
   "metadata": {},
   "source": [
    "Use napari labels layer to create masks for rois you want to analyze. For example, the ring terminals in the red and green channels.\n",
    "\n",
    "Use a unique value for each ROI you want to analyze "
   ]
  },
  {
   "cell_type": "code",
   "execution_count": 14,
   "id": "695a7b7a-40df-489b-8906-5e482d8d7058",
   "metadata": {},
   "outputs": [
    {
     "ename": "NameError",
     "evalue": "name 'napari' is not defined",
     "output_type": "error",
     "traceback": [
      "\u001b[1;31m---------------------------------------------------------------------------\u001b[0m",
      "\u001b[1;31mNameError\u001b[0m                                 Traceback (most recent call last)",
      "Cell \u001b[1;32mIn[14], line 1\u001b[0m\n\u001b[1;32m----> 1\u001b[0m viewer \u001b[38;5;241m=\u001b[39m napari\u001b[38;5;241m.\u001b[39mViewer()\n\u001b[0;32m      2\u001b[0m viewer\u001b[38;5;241m.\u001b[39madd_image(imarr\u001b[38;5;241m.\u001b[39mmean(axis\u001b[38;5;241m=\u001b[39m\u001b[38;5;241m0\u001b[39m))\n\u001b[0;32m      3\u001b[0m viewer\u001b[38;5;241m.\u001b[39madd_labels(np\u001b[38;5;241m.\u001b[39mzeros_like(imarr\u001b[38;5;241m.\u001b[39mmean(axis\u001b[38;5;241m=\u001b[39m\u001b[38;5;241m0\u001b[39m),dtype\u001b[38;5;241m=\u001b[39m\u001b[38;5;28mint\u001b[39m), name \u001b[38;5;241m=\u001b[39m \u001b[38;5;124m'\u001b[39m\u001b[38;5;124mrois\u001b[39m\u001b[38;5;124m'\u001b[39m)\n",
      "\u001b[1;31mNameError\u001b[0m: name 'napari' is not defined"
     ]
    }
   ],
   "source": [
    "viewer = napari.Viewer()\n",
    "viewer.add_image(imarr.mean(axis=0))\n",
    "viewer.add_labels(np.zeros_like(imarr.mean(axis=0),dtype=int), name = 'rois')"
   ]
  },
  {
   "cell_type": "markdown",
   "id": "66aeffe9-77f2-44c4-938f-400d3e866157",
   "metadata": {},
   "source": [
    "After you're done creating the masks, run the cells below to extract timeseries"
   ]
  },
  {
   "cell_type": "code",
   "execution_count": 16,
   "id": "50a3817a-eabf-4883-b61f-a059d9b45a0d",
   "metadata": {},
   "outputs": [
    {
     "ename": "NameError",
     "evalue": "name 'viewer' is not defined",
     "output_type": "error",
     "traceback": [
      "\u001b[1;31m---------------------------------------------------------------------------\u001b[0m",
      "\u001b[1;31mNameError\u001b[0m                                 Traceback (most recent call last)",
      "Cell \u001b[1;32mIn[16], line 2\u001b[0m\n\u001b[0;32m      1\u001b[0m \u001b[38;5;66;03m# get masks from napari object\u001b[39;00m\n\u001b[1;32m----> 2\u001b[0m mask \u001b[38;5;241m=\u001b[39m viewer\u001b[38;5;241m.\u001b[39mlayers[\u001b[38;5;124m'\u001b[39m\u001b[38;5;124mrois\u001b[39m\u001b[38;5;124m'\u001b[39m]\u001b[38;5;241m.\u001b[39mdata\n",
      "\u001b[1;31mNameError\u001b[0m: name 'viewer' is not defined"
     ]
    }
   ],
   "source": [
    "# get masks from napari object\n",
    "mask = viewer.layers['rois'].data"
   ]
  },
  {
   "cell_type": "code",
   "execution_count": null,
   "id": "35597de2-34a7-46b7-8bae-a1ea5716e4ea",
   "metadata": {},
   "outputs": [],
   "source": [
    "# get number of rois\n",
    "roi_vals = np.unique(mask)\n",
    "roi_vals = roi_vals[roi_vals>0]\n",
    "\n",
    "# average value within each roi\n",
    "roi_arr = np.zeros((roi_vals.shape[0], imarr.shape[0]))\n",
    "for row, val in enumerate(roi_vals):\n",
    "    roi_arr[row, :] = np.array([imarr[t,:,:][mask==1].ravel().mean() for t in range(imarr.shape[0])])\n",
    "\n"
   ]
  },
  {
   "cell_type": "code",
   "execution_count": null,
   "id": "cedd6d9d-2e5f-4660-81ef-a670c6ba1e18",
   "metadata": {},
   "outputs": [],
   "source": [
    "# plot\n",
    "fig, ax = plt.subplots()\n",
    "ax.plot(frame_times, roi_arr[:,:frames_in_nidaq].T)\n",
    "fig.show()"
   ]
  },
  {
   "cell_type": "code",
   "execution_count": null,
   "id": "bd810141-d36d-45b1-b56d-203a7ff3afc8",
   "metadata": {},
   "outputs": [],
   "source": [
    "# plot imaging data and roi data together\n",
    "fig, ax = plt.subplots()\n",
    "ax.plot(df['time'], np.amax(df['pump_trigger'])-df['pump_trigger'])\n",
    "ax.plot(frame_times, roi_arr[:,:frames_in_nidaq].T)\n",
    "fig.show()"
   ]
  }
 ],
 "metadata": {
  "kernelspec": {
   "display_name": "Python 3 (ipykernel)",
   "language": "python",
   "name": "python3"
  },
  "language_info": {
   "codemirror_mode": {
    "name": "ipython",
    "version": 3
   },
   "file_extension": ".py",
   "mimetype": "text/x-python",
   "name": "python",
   "nbconvert_exporter": "python",
   "pygments_lexer": "ipython3",
   "version": "3.12.3"
  }
 },
 "nbformat": 4,
 "nbformat_minor": 5
}
