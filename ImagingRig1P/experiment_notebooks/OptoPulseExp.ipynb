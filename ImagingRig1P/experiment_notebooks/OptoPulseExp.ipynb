{
 "cells": [
  {
   "cell_type": "code",
   "execution_count": 1,
   "id": "651ef19e-8d0e-470c-b06a-be6ef753b57b",
   "metadata": {},
   "outputs": [],
   "source": [
    "from typing import Tuple\n",
    "import os\n",
    "\n",
    "import numpy as np\n",
    "import numpy.typing\n",
    "\n",
    "import pandas as pd\n",
    "from matplotlib import pyplot as plt \n",
    "\n",
    "\n",
    "import nidaqmx\n",
    "import nidaqmx.system\n",
    "import nidaqmx.system._collections\n",
    "import nidaqmx.system._collections.physical_channel_collection\n",
    "from nidaqmx.constants import AcquisitionType, ProductCategory, LineGrouping\n",
    "from nidaqmx.constants import LoggingMode, LoggingOperation, READ_ALL_AVAILABLE\n",
    "\n",
    "import ImagingRig1P as irp\n",
    "\n",
    "%matplotlib qt\n",
    "%load_ext autoreload\n",
    "%autoreload 2"
   ]
  },
  {
   "cell_type": "markdown",
   "id": "d78b344c-cf04-42b9-bc42-9f389d31730a",
   "metadata": {},
   "source": [
    "## Set scan information\n",
    "\n",
    "Imaging with 450 nM LED and performing opto stimulation with 550 nm LED. Chroma ZET 488/561 filter set\n"
   ]
  },
  {
   "cell_type": "code",
   "execution_count": 2,
   "id": "f4d07bf1-b22b-41c6-b7db-eb99f69f09d1",
   "metadata": {},
   "outputs": [],
   "source": [
    "genotype = 'test'\n",
    "date = '28_10_2024'\n",
    "fly = 'fly1'\n",
    "\n"
   ]
  },
  {
   "cell_type": "code",
   "execution_count": 3,
   "id": "351708cd-7879-4d56-b496-0c464928a2f6",
   "metadata": {},
   "outputs": [],
   "source": [
    "# set stimulation parameters\n",
    "scan_info = {'scan_name': 'opto_pulse',\n",
    "            'led450': np.nan, # power in CoolLED units\n",
    "            'led550': np.nan, # power in CoolLED units\n",
    "            'sample_rate': 10000, # Hz\n",
    "            'duration': 10, # s\n",
    "            }\n",
    "\n",
    "opto_stim_params = {'inter_stim_interval': 5, # seconds, time between rising edges of opto stim\n",
    "                    'init_delay': 3, # seconds\n",
    "                    'duration': .1, # seconds\n",
    "                   }\n",
    "scan_info['opto_stim_params'] = opto_stim_params"
   ]
  },
  {
   "cell_type": "code",
   "execution_count": 4,
   "id": "e3e4406f-82ba-4ce1-bc7a-b740392e4523",
   "metadata": {},
   "outputs": [
    {
     "name": "stdout",
     "output_type": "stream",
     "text": [
      "D:\\test\\28_10_2024\\fly1\\opto_pulse_7.tdms\n"
     ]
    }
   ],
   "source": [
    "# number of samples in recording\n",
    "n_samples = int(scan_info['sample_rate']*scan_info['duration'])\n",
    "\n",
    "# time array\n",
    "time = np.arange(0,scan_info['duration'],1./scan_info['sample_rate'])\n",
    "\n",
    "# digital outputs\n",
    "do_data = {'camera_trigger': np.zeros([n_samples,]),\n",
    "           'led450_trigger': np.zeros([n_samples,]), # imaging\n",
    "           'led550_trigger': np.zeros([n_samples,]), # opto\n",
    "           'pump_trigger': np.zeros([n_samples,]), \n",
    "           }\n",
    "\n",
    "# trigger camera\n",
    "do_data['camera_trigger'][1:5000]=1\n",
    "\n",
    "# imaging led\n",
    "do_data['led450_trigger'][:-1]=1\n",
    "\n",
    "\n",
    "\n",
    "# stim every 5 seconds\n",
    "start_times = np.arange(opto_stim_params['init_delay'], scan_info['duration'], opto_stim_params['inter_stim_interval'])\n",
    "end_times = start_times+opto_stim_params['duration']\n",
    "for s, e in zip(start_times,end_times):\n",
    "    t_s, t_e = np.argmin(np.abs(time-s)), np.argmin(np.abs(time-e))\n",
    "    do_data['led550_trigger'][t_s:t_e]=1\n",
    "\n",
    "\n",
    "# set filename\n",
    "os.makedirs(f\"D:\\\\{genotype}\\\\{date}\\\\{fly}\\\\\", exist_ok=True)\n",
    "num = 0\n",
    "out_dir = f\"D:\\\\{genotype}\\\\{date}\\\\{fly}\\\\{scan_info['scan_name']}_{num}.tdms\"\n",
    "while os.path.exists(out_dir):\n",
    "    num +=1 \n",
    "    out_dir = f\"D:\\\\{genotype}\\\\{date}\\\\{fly}\\\\{scan_info['scan_name']}_{num}.tdms\"\n",
    "print(out_dir)"
   ]
  },
  {
   "cell_type": "markdown",
   "id": "b7d0a92c-ed7b-4b9e-8bea-7b3bd26a700f",
   "metadata": {},
   "source": [
    "### Run Experiment"
   ]
  },
  {
   "cell_type": "code",
   "execution_count": 5,
   "id": "a2b139d0-45e4-4d8f-b781-040e9106c8c6",
   "metadata": {},
   "outputs": [
    {
     "name": "stdout",
     "output_type": "stream",
     "text": [
      "(4, 100000)\n"
     ]
    }
   ],
   "source": [
    "exp = irp.experiment_builder.Experiment(do_data, out_dir,\n",
    "                                        sample_rate = scan_info['sample_rate'], duration = scan_info['duration'])\n",
    "exp.run_tasks()"
   ]
  },
  {
   "cell_type": "markdown",
   "id": "972a63f0-79f3-4b34-bc9d-25a4a90fba3d",
   "metadata": {},
   "source": [
    "### Load TDMS file and convert to pandas dataframe"
   ]
  },
  {
   "cell_type": "code",
   "execution_count": 6,
   "id": "b11d1be6-0480-476a-a851-331deafdf9fb",
   "metadata": {},
   "outputs": [],
   "source": [
    "#convert to dataframe\n",
    "df = exp.tdms_to_dataframe()\n"
   ]
  },
  {
   "cell_type": "code",
   "execution_count": 8,
   "id": "da0e6130-95c9-4671-b23d-c77d40e455bf",
   "metadata": {},
   "outputs": [],
   "source": [
    "# save dataframe with scan info as pickle file\n",
    "exp.save_dataframe(df, scan_info)"
   ]
  },
  {
   "cell_type": "code",
   "execution_count": 9,
   "id": "a9940f41-f954-4bac-9245-4405775fce9f",
   "metadata": {},
   "outputs": [],
   "source": [
    "df.head()\n",
    "\n",
    "fig, ax = plt.subplots()\n",
    "ax.plot(df['camera_trigger'])\n",
    "ax.plot(df['led450_trigger'])\n",
    "ax.plot(df['led550_trigger'])\n",
    "fig.show()"
   ]
  },
  {
   "cell_type": "code",
   "execution_count": null,
   "id": "30a93a3c-21da-49f9-bee5-330157d4e131",
   "metadata": {},
   "outputs": [],
   "source": []
  }
 ],
 "metadata": {
  "kernelspec": {
   "display_name": "Python 3 (ipykernel)",
   "language": "python",
   "name": "python3"
  },
  "language_info": {
   "codemirror_mode": {
    "name": "ipython",
    "version": 3
   },
   "file_extension": ".py",
   "mimetype": "text/x-python",
   "name": "python",
   "nbconvert_exporter": "python",
   "pygments_lexer": "ipython3",
   "version": "3.12.3"
  }
 },
 "nbformat": 4,
 "nbformat_minor": 5
}
