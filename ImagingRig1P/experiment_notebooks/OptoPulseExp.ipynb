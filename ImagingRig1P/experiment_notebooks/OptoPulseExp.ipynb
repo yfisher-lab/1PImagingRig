{
 "cells": [
  {
   "cell_type": "code",
   "execution_count": 1,
   "id": "651ef19e-8d0e-470c-b06a-be6ef753b57b",
   "metadata": {},
   "outputs": [],
   "source": [
    "import os\n",
    "import numpy as np\n",
    "\n",
    "\n",
    "import pandas as pd\n",
    "from matplotlib import pyplot as plt \n",
    "\n",
    "import ImagingRig1P as irp\n",
    "\n",
    "%matplotlib qt\n",
    "%load_ext autoreload\n",
    "%autoreload 2"
   ]
  },
  {
   "cell_type": "markdown",
   "id": "d78b344c-cf04-42b9-bc42-9f389d31730a",
   "metadata": {},
   "source": [
    "## Set scan information\n",
    "\n",
    "Imaging with 450 nM LED and performing opto stimulation with 550 nm LED. Chroma ZET 488/561 filter set\n"
   ]
  },
  {
   "cell_type": "code",
   "execution_count": 2,
   "id": "f4d07bf1-b22b-41c6-b7db-eb99f69f09d1",
   "metadata": {},
   "outputs": [],
   "source": [
    "genotype = 'test'\n",
    "date = '28_10_2024'\n",
    "fly = 'fly1'\n",
    "\n"
   ]
  },
  {
   "cell_type": "code",
   "execution_count": 3,
   "id": "351708cd-7879-4d56-b496-0c464928a2f6",
   "metadata": {},
   "outputs": [],
   "source": [
    "# set stimulation parameters\n",
    "scan_info = {'scan_name': 'opto_pulse',\n",
    "            'led450': np.nan, # power in CoolLED units\n",
    "            'led550': np.nan, # power in CoolLED units\n",
    "            'sample_rate': 10000, # Hz\n",
    "            'duration': 10, # s\n",
    "            }\n",
    "\n",
    "opto_stim_params = {'inter_stim_interval': 5, # seconds, time between rising edges of opto stim\n",
    "                    'init_delay': 3, # seconds\n",
    "                    'duration': .1, # seconds\n",
    "                   }\n",
    "scan_info['opto_stim_params'] = opto_stim_params"
   ]
  },
  {
   "cell_type": "code",
   "execution_count": 4,
   "id": "e3e4406f-82ba-4ce1-bc7a-b740392e4523",
   "metadata": {},
   "outputs": [
    {
     "name": "stdout",
     "output_type": "stream",
     "text": [
      "D:\\test\\28_10_2024\\fly1\\opto_pulse_8.tdms\n"
     ]
    }
   ],
   "source": [
    "# number of samples in recording\n",
    "n_samples = int(scan_info['sample_rate']*scan_info['duration'])\n",
    "\n",
    "# time array\n",
    "time = np.arange(0,scan_info['duration'],1./scan_info['sample_rate'])\n",
    "\n",
    "# digital outputs\n",
    "do_data = {'camera_trigger': np.zeros([n_samples,]),\n",
    "           'led450_trigger': np.zeros([n_samples,]), # imaging\n",
    "           'led550_trigger': np.zeros([n_samples,]), # opto\n",
    "           'pump_trigger': np.zeros([n_samples,]), \n",
    "           }\n",
    "\n",
    "# trigger camera\n",
    "do_data['camera_trigger'][1:5000]=1\n",
    "\n",
    "# imaging led\n",
    "do_data['led450_trigger'][:-1]=1\n",
    "\n",
    "\n",
    "\n",
    "# stim every 5 seconds\n",
    "start_times = np.arange(opto_stim_params['init_delay'], scan_info['duration'], opto_stim_params['inter_stim_interval'])\n",
    "end_times = start_times+opto_stim_params['duration']\n",
    "for s, e in zip(start_times,end_times):\n",
    "    t_s, t_e = np.argmin(np.abs(time-s)), np.argmin(np.abs(time-e))\n",
    "    do_data['led550_trigger'][t_s:t_e]=1\n",
    "\n",
    "\n",
    "# set filename\n",
    "os.makedirs(f\"D:\\\\{genotype}\\\\{date}\\\\{fly}\\\\\", exist_ok=True)\n",
    "num = 0\n",
    "out_dir = f\"D:\\\\{genotype}\\\\{date}\\\\{fly}\\\\{scan_info['scan_name']}_{num}.tdms\"\n",
    "while os.path.exists(out_dir):\n",
    "    num +=1 \n",
    "    out_dir = f\"D:\\\\{genotype}\\\\{date}\\\\{fly}\\\\{scan_info['scan_name']}_{num}.tdms\"\n",
    "print(out_dir)"
   ]
  },
  {
   "cell_type": "markdown",
   "id": "b7d0a92c-ed7b-4b9e-8bea-7b3bd26a700f",
   "metadata": {},
   "source": [
    "### Run Experiment\n",
    "\n",
    "# HC Image Live scan checklist\n",
    "\n",
    "\n",
    "- Capture Pane:\n",
    "\n",
    "  - Binning & SubArray \n",
    "    - Set binning to 2\n",
    "    - Set sub-array size to minimal size to get desired FOV\n",
    "  - Camera Control\n",
    "    - Set exposure to get desired frame rate\n",
    "  - Trigger Modes, Speed, & Registration\n",
    "      - Make sure Speed is set to \"Fast\"\n",
    "      - Capture Mode\n",
    "        - Area\n",
    "        - Internal while finding field of view\n",
    "        - External: Start Trigger for data collection\n",
    "      - Ouput Trigger\n",
    "        - line 1\n",
    "        - output trigger\n",
    "        - kind=PROGRAMMABLE\n",
    "        - Programmable Trigger Options: Delay=0, Period=1.0 ms, Source=READOUT END\n",
    "- Sequence Pane:\n",
    "  - Select Scan Type = High Speed Streaming\n",
    "  - Scan Settings\n",
    "    - Frame Count: Set to high enough value such that \"Best Time\">scan_info['duration']\n",
    "    - RAM\n",
    "    - check autosave\n",
    "      - \"...\" to set save directory and filename\n",
    "        - recommend to make the directory the same as tdms file\n",
    "      - MPTIFF enabled\n",
    "\n",
    "### When you're ready to collect data, set \"Capture Mode\" trigger to \"External: Start Trigger\". Hit \"Start\" on Sequence Pane. Then run cell below."
   ]
  },
  {
   "cell_type": "code",
   "execution_count": 5,
   "id": "a2b139d0-45e4-4d8f-b781-040e9106c8c6",
   "metadata": {},
   "outputs": [
    {
     "name": "stdout",
     "output_type": "stream",
     "text": [
      "(4, 100000)\n"
     ]
    }
   ],
   "source": [
    "exp = irp.experiment_builder.Experiment(do_data, out_dir,\n",
    "                                        sample_rate = scan_info['sample_rate'], duration = scan_info['duration'])\n",
    "exp.run_tasks()"
   ]
  },
  {
   "cell_type": "markdown",
   "id": "972a63f0-79f3-4b34-bc9d-25a4a90fba3d",
   "metadata": {},
   "source": [
    "### Load TDMS file and convert to pandas dataframe"
   ]
  },
  {
   "cell_type": "code",
   "execution_count": 6,
   "id": "b11d1be6-0480-476a-a851-331deafdf9fb",
   "metadata": {},
   "outputs": [],
   "source": [
    "#convert to dataframe\n",
    "df = exp.tdms_to_dataframe()\n"
   ]
  },
  {
   "cell_type": "code",
   "execution_count": 7,
   "id": "da0e6130-95c9-4671-b23d-c77d40e455bf",
   "metadata": {},
   "outputs": [],
   "source": [
    "# save dataframe with scan info as pickle file\n",
    "exp.save_dataframe(df, scan_info)"
   ]
  },
  {
   "cell_type": "code",
   "execution_count": 11,
   "id": "a9940f41-f954-4bac-9245-4405775fce9f",
   "metadata": {},
   "outputs": [
    {
     "data": {
      "text/html": [
       "<div>\n",
       "<style scoped>\n",
       "    .dataframe tbody tr th:only-of-type {\n",
       "        vertical-align: middle;\n",
       "    }\n",
       "\n",
       "    .dataframe tbody tr th {\n",
       "        vertical-align: top;\n",
       "    }\n",
       "\n",
       "    .dataframe thead th {\n",
       "        text-align: right;\n",
       "    }\n",
       "</style>\n",
       "<table border=\"1\" class=\"dataframe\">\n",
       "  <thead>\n",
       "    <tr style=\"text-align: right;\">\n",
       "      <th></th>\n",
       "      <th>time</th>\n",
       "      <th>camera_trigger</th>\n",
       "      <th>led450_trigger</th>\n",
       "      <th>led550_trigger</th>\n",
       "      <th>pump_trigger</th>\n",
       "      <th>camera_output</th>\n",
       "    </tr>\n",
       "  </thead>\n",
       "  <tbody>\n",
       "    <tr>\n",
       "      <th>0</th>\n",
       "      <td>0.0000</td>\n",
       "      <td>5.014713</td>\n",
       "      <td>4.948904</td>\n",
       "      <td>0.000763</td>\n",
       "      <td>2.455170</td>\n",
       "      <td>0.008325</td>\n",
       "    </tr>\n",
       "    <tr>\n",
       "      <th>1</th>\n",
       "      <td>0.0001</td>\n",
       "      <td>5.006989</td>\n",
       "      <td>4.940376</td>\n",
       "      <td>0.000602</td>\n",
       "      <td>2.452757</td>\n",
       "      <td>0.009291</td>\n",
       "    </tr>\n",
       "    <tr>\n",
       "      <th>2</th>\n",
       "      <td>0.0002</td>\n",
       "      <td>4.999105</td>\n",
       "      <td>4.931849</td>\n",
       "      <td>0.000602</td>\n",
       "      <td>2.450183</td>\n",
       "      <td>0.008164</td>\n",
       "    </tr>\n",
       "    <tr>\n",
       "      <th>3</th>\n",
       "      <td>0.0003</td>\n",
       "      <td>4.991060</td>\n",
       "      <td>4.923643</td>\n",
       "      <td>0.000763</td>\n",
       "      <td>2.446643</td>\n",
       "      <td>0.008325</td>\n",
       "    </tr>\n",
       "    <tr>\n",
       "      <th>4</th>\n",
       "      <td>0.0004</td>\n",
       "      <td>4.983015</td>\n",
       "      <td>4.915437</td>\n",
       "      <td>0.000602</td>\n",
       "      <td>2.445517</td>\n",
       "      <td>0.008164</td>\n",
       "    </tr>\n",
       "  </tbody>\n",
       "</table>\n",
       "</div>"
      ],
      "text/plain": [
       "     time  camera_trigger  led450_trigger  led550_trigger  pump_trigger  \\\n",
       "0  0.0000        5.014713        4.948904        0.000763      2.455170   \n",
       "1  0.0001        5.006989        4.940376        0.000602      2.452757   \n",
       "2  0.0002        4.999105        4.931849        0.000602      2.450183   \n",
       "3  0.0003        4.991060        4.923643        0.000763      2.446643   \n",
       "4  0.0004        4.983015        4.915437        0.000602      2.445517   \n",
       "\n",
       "   camera_output  \n",
       "0       0.008325  \n",
       "1       0.009291  \n",
       "2       0.008164  \n",
       "3       0.008325  \n",
       "4       0.008164  "
      ]
     },
     "execution_count": 11,
     "metadata": {},
     "output_type": "execute_result"
    }
   ],
   "source": [
    "# check formatting of pandas array\n",
    "df.head()"
   ]
  },
  {
   "cell_type": "code",
   "execution_count": 13,
   "id": "98eb3468-b8a8-41a2-b1e7-471f44aff310",
   "metadata": {},
   "outputs": [],
   "source": [
    "# plot \n",
    "fig, ax = plt.subplots()\n",
    "ax.plot(df['time'], df['camera_trigger'])\n",
    "ax.plot(df['time'], df['led450_trigger'])\n",
    "ax.plot(df['time'], df['led550_trigger'])\n",
    "ax.plot(df['time'], df['camera_output'])\n",
    "ax.set_xlabel('Time (s)')\n",
    "fig.show()"
   ]
  },
  {
   "cell_type": "markdown",
   "id": "fb92e289-345d-4812-bdfa-cbe968a2c3a8",
   "metadata": {},
   "source": [
    "### Read imaging data that was just saved\n",
    "\n",
    "Make sure to update mptiff_filepath to the tiff file that you saved\n"
   ]
  },
  {
   "cell_type": "code",
   "execution_count": null,
   "id": "a21c1399-37a9-4c6c-b8ae-3ac1ace6b83f",
   "metadata": {},
   "outputs": [],
   "source": [
    "# path to imaging file\n",
    "mptiff_filepath = f\"D:\\\\{genotype}\\\\{date}\\\\{fly}\\\\{scan_info['scan_name']}_.mptiff\"\n",
    "\n",
    "\n",
    "# load imaging data\n",
    "imarr = irp.tools.open_multipage_tiff(mptiff_filepath)\n",
    "\n",
    "cam_output_bool = df['camera_output']>1\n",
    "frame_times = df['time'][np.ediff(cam_output_bool,to_end=0)>0]\n",
    "frames_in_nidaq = frame_times.shape[0]"
   ]
  },
  {
   "cell_type": "markdown",
   "id": "4ea7cfb0-5c72-43c3-9511-04640a2ab186",
   "metadata": {},
   "source": [
    "Use napari labels layer to create masks for rois you want to analyze. For example, the ring terminals in the red and green channels.\n",
    "\n",
    "Use a unique value for each ROI you want to analyze "
   ]
  },
  {
   "cell_type": "code",
   "execution_count": null,
   "id": "16d6876a-ab07-4eb8-be6f-e4688076107d",
   "metadata": {},
   "outputs": [],
   "source": [
    "viewer = napari.Viewer()\n",
    "viewer.add_image(imarr.mean(axis=0))\n",
    "viewer.add_labels(np.zeros_like(imarr.mean(axis=0),dtype=int), name = 'rois')"
   ]
  },
  {
   "cell_type": "markdown",
   "id": "0bf9e835-4e57-4711-9794-17346332a6a2",
   "metadata": {},
   "source": [
    "After you're done creating the masks, run the cells below to extract timeseries"
   ]
  },
  {
   "cell_type": "code",
   "execution_count": null,
   "id": "94d65c77-4e2c-41c4-aeac-d3597fedc496",
   "metadata": {},
   "outputs": [],
   "source": [
    "# get masks from napari object\n",
    "mask = viewer.layers['rois'].data"
   ]
  },
  {
   "cell_type": "code",
   "execution_count": null,
   "id": "c4797ade-dd31-47c4-a2a4-22fa1e855a70",
   "metadata": {},
   "outputs": [],
   "source": [
    "# get number of rois\n",
    "roi_vals = np.unique(mask)\n",
    "roi_vals = roi_vals[roi_vals>0]\n",
    "\n",
    "# average value within each roi\n",
    "roi_arr = np.zeros((roi_vals.shape[0], imarr.shape[0]))\n",
    "for row, val in enumerate(roi_vals):\n",
    "    roi_arr[row, :] = np.array([imarr[t,:,:][mask==1].ravel().mean() for t in range(imarr.shape[0])])\n",
    "\n",
    "\n"
   ]
  },
  {
   "cell_type": "code",
   "execution_count": null,
   "id": "52f9365d-9217-4893-9011-8daf1f75cf31",
   "metadata": {},
   "outputs": [],
   "source": [
    "# plot\n",
    "fig, ax = plt.subplots()\n",
    "ax.plot(frame_times, roi_arr[:,:frames_in_nidaq].T)"
   ]
  }
 ],
 "metadata": {
  "kernelspec": {
   "display_name": "Python 3 (ipykernel)",
   "language": "python",
   "name": "python3"
  },
  "language_info": {
   "codemirror_mode": {
    "name": "ipython",
    "version": 3
   },
   "file_extension": ".py",
   "mimetype": "text/x-python",
   "name": "python",
   "nbconvert_exporter": "python",
   "pygments_lexer": "ipython3",
   "version": "3.12.3"
  }
 },
 "nbformat": 4,
 "nbformat_minor": 5
}
