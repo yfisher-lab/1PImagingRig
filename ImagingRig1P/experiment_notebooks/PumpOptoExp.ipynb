{
 "cells": [
  {
   "cell_type": "code",
   "execution_count": 1,
   "id": "867be1c8-74ca-45b5-8f88-14eaf0aaa569",
   "metadata": {},
   "outputs": [],
   "source": [
    "import os\n",
    "\n",
    "import numpy as np\n",
    "import pandas as pd\n",
    "from matplotlib import pyplot as plt \n",
    "import napari\n",
    "\n",
    "import ImagingRig1P as irp\n",
    "\n",
    "%matplotlib qt\n",
    "%load_ext autoreload\n",
    "%autoreload 2"
   ]
  },
  {
   "cell_type": "markdown",
   "id": "dbf09573-acf8-4d9d-8654-06ea004060c8",
   "metadata": {},
   "source": [
    "### Set scan information\n",
    "Imaging with 450 nM LED, performing pressure injection with WPI PV850, opto stimulation with 550 nm LED. Chroma ZET 488/561 filter set"
   ]
  },
  {
   "cell_type": "code",
   "execution_count": 2,
   "id": "0a74e1ae-80e9-4513-a0fd-b6209d98ee85",
   "metadata": {},
   "outputs": [],
   "source": [
    "genotype = 'test'\n",
    "date = '28_10_2024'\n",
    "fly = 'fly1'"
   ]
  },
  {
   "cell_type": "code",
   "execution_count": 3,
   "id": "0343608c-cb5a-4f3b-8636-e11aea51061a",
   "metadata": {},
   "outputs": [],
   "source": [
    "# set stimulation parameters\n",
    "scan_info = {'scan_name': 'pump_opto_pulse',\n",
    "             'led450': np.nan, # power in CoolLED units\n",
    "             'led550': np.nan, # power in CoolLED units\n",
    "             'pump_compensation_pressure': np.nan, # PSI\n",
    "             'pump_injection_pressure': np.nan, # PSI\n",
    "             'pump_injection_duration': np.nan, # seconds, set on PV850 touch screen\n",
    "             'sample_rate': 10000, # Hz\n",
    "             'duration': 10, # s\n",
    "            }\n",
    "\n",
    "opto_stim_params = {'inter_stim_interval': .1, # seconds, time between rising edges of opto stim\n",
    "                    'init_delay': 3, # seconds\n",
    "                    'duration': .02, # seconds\n",
    "                   }\n",
    "scan_info['opto_stim_params'] = opto_stim_params\n",
    "\n",
    "pump_params = {'inter_stim_interval': 5, # seconds, time between rising edges of opto stim\n",
    "                'init_delay': 3, # seconds\n",
    "                'duration': .1, # seconds, This value only affects the pin behavior not the actual pump duration\n",
    "               }\n",
    "scan_info['pump_params'] = pump_params"
   ]
  },
  {
   "cell_type": "code",
   "execution_count": 4,
   "id": "fc1c41f2-aec7-492e-96c9-d10876e7301e",
   "metadata": {},
   "outputs": [
    {
     "name": "stdout",
     "output_type": "stream",
     "text": [
      "D:\\test\\28_10_2024\\fly1\\pump_opto_pulse_2.tdms\n"
     ]
    }
   ],
   "source": [
    "# number of samples in recording\n",
    "n_samples = int(scan_info['sample_rate']*scan_info['duration'])\n",
    "\n",
    "# time array\n",
    "time = np.arange(0,scan_info['duration'],1./scan_info['sample_rate'])\n",
    "\n",
    "# digital outputs\n",
    "do_data = {'camera_trigger': np.zeros([n_samples,]),\n",
    "           'led450_trigger': np.zeros([n_samples,]), # imaging\n",
    "           'led550_trigger': np.zeros([n_samples,]), # opto\n",
    "           'pump_trigger': np.zeros([n_samples,]), \n",
    "           }\n",
    "\n",
    "# trigger camera\n",
    "do_data['camera_trigger'][1:5000]=1\n",
    "\n",
    "# imaging led\n",
    "do_data['led450_trigger'][:-1]=1\n",
    "\n",
    "# opto stim\n",
    "start_times = np.arange(opto_stim_params['init_delay'], scan_info['duration'], opto_stim_params['inter_stim_interval'])\n",
    "end_times = start_times+opto_stim_params['duration']\n",
    "for s, e in zip(start_times,end_times):\n",
    "    t_s, t_e = np.argmin(np.abs(time-s)), np.argmin(np.abs(time-e))\n",
    "    do_data['led550_trigger'][t_s:t_e]=1\n",
    "\n",
    "# pump stim\n",
    "start_times = np.arange(pump_params['init_delay'], scan_info['duration'], pump_params['inter_stim_interval'])\n",
    "end_times = start_times+pump_params['duration']\n",
    "for s, e in zip(start_times,end_times):\n",
    "    t_s, t_e = np.argmin(np.abs(time-s)), np.argmin(np.abs(time-e))\n",
    "    do_data['pump_trigger'][t_s:t_e]=1\n",
    "\n",
    "\n",
    "# set filename\n",
    "os.makedirs(f\"D:\\\\{genotype}\\\\{date}\\\\{fly}\\\\\", exist_ok=True)\n",
    "num = 0\n",
    "out_dir = f\"D:\\\\{genotype}\\\\{date}\\\\{fly}\\\\{scan_info['scan_name']}_{num}.tdms\"\n",
    "while os.path.exists(out_dir):\n",
    "    num +=1 \n",
    "    out_dir = f\"D:\\\\{genotype}\\\\{date}\\\\{fly}\\\\{scan_info['scan_name']}_{num}.tdms\"\n",
    "print(out_dir)"
   ]
  },
  {
   "cell_type": "code",
   "execution_count": 5,
   "id": "3a7b04e9-294c-4e3b-bdd4-2e1d28661fbf",
   "metadata": {},
   "outputs": [],
   "source": [
    "# check stimulation triggers \n",
    "fig, ax = plt.subplots()\n",
    "ax.plot(time, do_data['led550_trigger'], color='orange', label='opto')\n",
    "ax.plot(time, do_data['pump_trigger'], color='black', label='pump')\n",
    "fig.legend()\n",
    "fig.show()"
   ]
  },
  {
   "cell_type": "markdown",
   "id": "bc2628d2-4b63-4855-b45a-2305a15158a1",
   "metadata": {},
   "source": [
    "# Run Experiment\n",
    "\n",
    "# HC Image Live scan checklist\n",
    "\n",
    "\n",
    "- Capture Pane:\n",
    "\n",
    "  - Binning & SubArray \n",
    "    - Set binning to 2\n",
    "    - Set sub-array size to minimal size to get desired FOV\n",
    "  - Camera Control\n",
    "    - Set exposure to get desired frame rate\n",
    "  - Trigger Modes, Speed, & Registration\n",
    "      - Make sure Speed is set to \"Fast\"\n",
    "      - Capture Mode\n",
    "        - Area\n",
    "        - Internal while finding field of view\n",
    "        - External: Start Trigger for data collection\n",
    "      - Ouput Trigger\n",
    "        - line 1\n",
    "        - output trigger\n",
    "        - kind=PROGRAMMABLE\n",
    "        - Programmable Trigger Options: Delay=0, Period=1.0 ms, Source=READOUT END\n",
    "- Sequence Pane:\n",
    "  - Select Scan Type = High Speed Streaming\n",
    "  - Scan Settings\n",
    "    - Frame Count: Set to high enough value such that \"Best Time\">scan_info['duration']\n",
    "    - RAM\n",
    "    - check autosave\n",
    "      - \"...\" to set save directory and filename\n",
    "        - recommend to make the directory the same as tdms file\n",
    "      - MPTIFF enabled\n",
    "\n",
    "### When you're ready to collect data, set \"Capture Mode\" trigger to \"External: Start Trigger\". Hit \"Start\" on Sequence Pane. Then run cell below."
   ]
  },
  {
   "cell_type": "code",
   "execution_count": 17,
   "id": "0582c10d-40d6-400d-b640-f705da172d72",
   "metadata": {},
   "outputs": [
    {
     "name": "stdout",
     "output_type": "stream",
     "text": [
      "(4, 100000)\n"
     ]
    }
   ],
   "source": [
    "exp = irp.experiment_builder.Experiment(do_data, out_dir,\n",
    "                                        sample_rate = scan_info['sample_rate'], duration = scan_info['duration'])\n",
    "exp.run_tasks()"
   ]
  },
  {
   "cell_type": "markdown",
   "id": "2e842fba-860d-4619-a232-260f6f2170f3",
   "metadata": {},
   "source": [
    "### Load TDMS file and convert to pandas dataframe"
   ]
  },
  {
   "cell_type": "code",
   "execution_count": 18,
   "id": "5bc02ef7-e642-402b-a419-972078f0ac67",
   "metadata": {},
   "outputs": [],
   "source": [
    "#convert to dataframe\n",
    "df = exp.tdms_to_dataframe()"
   ]
  },
  {
   "cell_type": "code",
   "execution_count": 19,
   "id": "b4c6fb92-eac5-45f4-8caa-17bd1ba31a39",
   "metadata": {},
   "outputs": [],
   "source": [
    "# save dataframe with scan info as pickle file\n",
    "exp.save_dataframe(df, scan_info)"
   ]
  },
  {
   "cell_type": "code",
   "execution_count": 20,
   "id": "6cd8bf8e-3b0d-4d5e-a710-2e2739fc56de",
   "metadata": {},
   "outputs": [
    {
     "data": {
      "text/html": [
       "<div>\n",
       "<style scoped>\n",
       "    .dataframe tbody tr th:only-of-type {\n",
       "        vertical-align: middle;\n",
       "    }\n",
       "\n",
       "    .dataframe tbody tr th {\n",
       "        vertical-align: top;\n",
       "    }\n",
       "\n",
       "    .dataframe thead th {\n",
       "        text-align: right;\n",
       "    }\n",
       "</style>\n",
       "<table border=\"1\" class=\"dataframe\">\n",
       "  <thead>\n",
       "    <tr style=\"text-align: right;\">\n",
       "      <th></th>\n",
       "      <th>time</th>\n",
       "      <th>camera_trigger</th>\n",
       "      <th>led450_trigger</th>\n",
       "      <th>led550_trigger</th>\n",
       "      <th>pump_trigger</th>\n",
       "      <th>camera_output</th>\n",
       "    </tr>\n",
       "  </thead>\n",
       "  <tbody>\n",
       "    <tr>\n",
       "      <th>0</th>\n",
       "      <td>0.0000</td>\n",
       "      <td>5.038204</td>\n",
       "      <td>4.974487</td>\n",
       "      <td>0.000120</td>\n",
       "      <td>3.973376</td>\n",
       "      <td>0.007199</td>\n",
       "    </tr>\n",
       "    <tr>\n",
       "      <th>1</th>\n",
       "      <td>0.0001</td>\n",
       "      <td>5.053490</td>\n",
       "      <td>4.983015</td>\n",
       "      <td>0.000602</td>\n",
       "      <td>3.973858</td>\n",
       "      <td>0.008003</td>\n",
       "    </tr>\n",
       "    <tr>\n",
       "      <th>2</th>\n",
       "      <td>0.0002</td>\n",
       "      <td>5.046732</td>\n",
       "      <td>4.976740</td>\n",
       "      <td>0.000763</td>\n",
       "      <td>3.973215</td>\n",
       "      <td>0.007199</td>\n",
       "    </tr>\n",
       "    <tr>\n",
       "      <th>3</th>\n",
       "      <td>0.0003</td>\n",
       "      <td>5.040296</td>\n",
       "      <td>4.968534</td>\n",
       "      <td>0.001407</td>\n",
       "      <td>3.972893</td>\n",
       "      <td>0.007360</td>\n",
       "    </tr>\n",
       "    <tr>\n",
       "      <th>4</th>\n",
       "      <td>0.0004</td>\n",
       "      <td>5.033699</td>\n",
       "      <td>4.962742</td>\n",
       "      <td>0.001890</td>\n",
       "      <td>3.970319</td>\n",
       "      <td>3.322068</td>\n",
       "    </tr>\n",
       "  </tbody>\n",
       "</table>\n",
       "</div>"
      ],
      "text/plain": [
       "     time  camera_trigger  led450_trigger  led550_trigger  pump_trigger  \\\n",
       "0  0.0000        5.038204        4.974487        0.000120      3.973376   \n",
       "1  0.0001        5.053490        4.983015        0.000602      3.973858   \n",
       "2  0.0002        5.046732        4.976740        0.000763      3.973215   \n",
       "3  0.0003        5.040296        4.968534        0.001407      3.972893   \n",
       "4  0.0004        5.033699        4.962742        0.001890      3.970319   \n",
       "\n",
       "   camera_output  \n",
       "0       0.007199  \n",
       "1       0.008003  \n",
       "2       0.007199  \n",
       "3       0.007360  \n",
       "4       3.322068  "
      ]
     },
     "execution_count": 20,
     "metadata": {},
     "output_type": "execute_result"
    }
   ],
   "source": [
    "# check formatting of pandas array\n",
    "df.head()"
   ]
  },
  {
   "cell_type": "code",
   "execution_count": 21,
   "id": "b2ddfb12-0f48-4e2b-b70d-7310443f432f",
   "metadata": {},
   "outputs": [],
   "source": [
    "# plot \n",
    "fig, ax = plt.subplots()\n",
    "ax.plot(df['time'], df['camera_trigger'])\n",
    "ax.plot(df['time'], df['led450_trigger'])\n",
    "ax.plot(df['time'], df['led550_trigger'])\n",
    "ax.plot(df['time'], df['pump_trigger'])\n",
    "ax.plot(df['time'], df['camera_output'])\n",
    "ax.set_xlabel('Time (s)')\n",
    "fig.show()"
   ]
  },
  {
   "cell_type": "markdown",
   "id": "96d3abee-5378-4bd0-8105-a337521b5220",
   "metadata": {},
   "source": [
    "### Quick analysis of imaging data that was just saved\n",
    "\n",
    "Make sure to update mptiff_filepath to the tiff file that you saved\n"
   ]
  },
  {
   "cell_type": "code",
   "execution_count": null,
   "id": "ae1d5bec-e4e7-495c-86ad-f252e67f71a2",
   "metadata": {},
   "outputs": [],
   "source": [
    "# path to imaging file\n",
    "mptiff_filepath = f\"D:\\\\{genotype}\\\\{date}\\\\{fly}\\\\mpImage(0).tif\"\n",
    "\n",
    "\n",
    "# load imaging data\n",
    "imarr = irp.tools.open_multipage_tiff(mptiff_filepath)\n",
    "\n",
    "cam_output_bool = 1*(df['camera_output']>1)\n",
    "frame_times = df['time'][np.ediff1d(cam_output_bool,to_begin=0)>0]\n",
    "frames_in_nidaq = frame_times.shape[0]"
   ]
  },
  {
   "cell_type": "markdown",
   "id": "6daf837e-03c2-4e24-9447-7ae15b226801",
   "metadata": {},
   "source": [
    "Use napari labels layer to create masks for rois you want to analyze. For example, the ring terminals in the red and green channels.\n",
    "\n",
    "Use a unique value for each ROI you want to analyze"
   ]
  },
  {
   "cell_type": "code",
   "execution_count": 27,
   "id": "94248139-4e32-4abc-ba08-79cf2aca4f54",
   "metadata": {},
   "outputs": [
    {
     "data": {
      "text/plain": [
       "<Labels layer 'rois' at 0x1bf2d14ea80>"
      ]
     },
     "execution_count": 27,
     "metadata": {},
     "output_type": "execute_result"
    }
   ],
   "source": [
    "viewer = napari.Viewer()\n",
    "viewer.add_image(imarr.mean(axis=0))\n",
    "viewer.add_labels(np.zeros_like(imarr.mean(axis=0),dtype=int), name = 'rois')"
   ]
  },
  {
   "cell_type": "markdown",
   "id": "0cb1aa96-f0c6-4b46-ad30-c7f03acd4ebb",
   "metadata": {},
   "source": [
    "After you're done creating the masks, run the cells below to extract timeseries"
   ]
  },
  {
   "cell_type": "code",
   "execution_count": 28,
   "id": "afeb7ede-9b8f-46f9-a9e4-0409f4d034b4",
   "metadata": {},
   "outputs": [],
   "source": [
    "# get masks from napari object\n",
    "mask = viewer.layers['rois'].data"
   ]
  },
  {
   "cell_type": "code",
   "execution_count": 29,
   "id": "015e7c5b-0d82-477e-a6a0-ae4eb2a3a90c",
   "metadata": {},
   "outputs": [],
   "source": [
    "# get number of rois\n",
    "roi_vals = np.unique(mask)\n",
    "roi_vals = roi_vals[roi_vals>0]\n",
    "\n",
    "# average value within each roi\n",
    "roi_arr = np.zeros((roi_vals.shape[0], imarr.shape[0]))\n",
    "for row, val in enumerate(roi_vals):\n",
    "    roi_arr[row, :] = np.array([imarr[t,:,:][mask==1].ravel().mean() for t in range(imarr.shape[0])])\n",
    "\n"
   ]
  },
  {
   "cell_type": "code",
   "execution_count": 30,
   "id": "f4135381-c1a7-4fd4-b891-33067d65dd89",
   "metadata": {},
   "outputs": [],
   "source": [
    "# plot\n",
    "fig, ax = plt.subplots()\n",
    "ax.plot(frame_times, roi_arr[:,:frames_in_nidaq].T)\n",
    "fig.show()"
   ]
  },
  {
   "cell_type": "code",
   "execution_count": 34,
   "id": "55f480c4-501d-42ab-8344-7d3e69407701",
   "metadata": {},
   "outputs": [],
   "source": [
    "# plot imaging data and roi data together\n",
    "fig, ax = plt.subplots()\n",
    "ax.plot(df['time'], np.amax(df['pump_trigger'])-df['pump_trigger'])\n",
    "ax.plot(df['time'], df['led550_trigger'])\n",
    "\n",
    "axx = ax.twinx()\n",
    "axx.plot(frame_times, roi_arr[:,:frames_in_nidaq].T)\n",
    "fig.show()"
   ]
  },
  {
   "cell_type": "code",
   "execution_count": null,
   "id": "1a0928d3-c073-4f1d-80d4-4b83a7f8ed4e",
   "metadata": {},
   "outputs": [],
   "source": []
  }
 ],
 "metadata": {
  "kernelspec": {
   "display_name": "Python 3 (ipykernel)",
   "language": "python",
   "name": "python3"
  },
  "language_info": {
   "codemirror_mode": {
    "name": "ipython",
    "version": 3
   },
   "file_extension": ".py",
   "mimetype": "text/x-python",
   "name": "python",
   "nbconvert_exporter": "python",
   "pygments_lexer": "ipython3",
   "version": "3.12.3"
  }
 },
 "nbformat": 4,
 "nbformat_minor": 5
}
