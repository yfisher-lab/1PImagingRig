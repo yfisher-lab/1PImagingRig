{
 "cells": [
  {
   "cell_type": "code",
   "execution_count": 1,
   "id": "7f8c9bfd-05fd-4775-bb21-fff5117aaf96",
   "metadata": {},
   "outputs": [],
   "source": [
    "import napari\n",
    "import numpy as np\n",
    "import PIL\n",
    "from matplotlib import pyplot as plt\n",
    "\n",
    "%matplotlib qt"
   ]
  },
  {
   "cell_type": "code",
   "execution_count": 2,
   "id": "c0b90c6e-4f45-4499-baab-bf3b1e5eca06",
   "metadata": {},
   "outputs": [],
   "source": [
    "def open_multipage_tiff(filepath):\n",
    "    \"\"\"Opens a multi-page TIFF file and returns a list of PIL Image objects.\"\"\"\n",
    "\n",
    "    img = PIL.Image.open(filepath)\n",
    "    images = []\n",
    "\n",
    "    try:\n",
    "        while True:\n",
    "            images.append(img.copy())\n",
    "            img.seek(img.tell() + 1)\n",
    "    except EOFError:\n",
    "        pass\n",
    "\n",
    "    return images"
   ]
  },
  {
   "cell_type": "code",
   "execution_count": 3,
   "id": "e2409ada-6dd8-4a4d-b646-5f03284422c8",
   "metadata": {},
   "outputs": [],
   "source": [
    "fname = \"D:\\\\ER4d_sytjGCaMP7f_CsChrimsontdT\\\\23_10_2024\\\\fly2\\\\mpImage(12).tif\"\n",
    "\n",
    "images = open_multipage_tiff(fname)\n",
    "\n",
    "imarr = np.array(images)\n",
    "imarr = imarr-np.amin(imarr,axis=1,keepdims=True)\n",
    "# nap = napari.view_image('D:\\\\ER4d_sytjGCaMP7f_CsChrimsontdT\\23_10_2024\\fly1\\mpImage(2).tif')\n"
   ]
  },
  {
   "cell_type": "code",
   "execution_count": 4,
   "id": "0c1607e3-4d7b-4441-8387-9573be78b133",
   "metadata": {},
   "outputs": [
    {
     "data": {
      "text/plain": [
       "(1617, 1152, 1152)"
      ]
     },
     "execution_count": 4,
     "metadata": {},
     "output_type": "execute_result"
    }
   ],
   "source": [
    "imarr.shape"
   ]
  },
  {
   "cell_type": "code",
   "execution_count": 5,
   "id": "c53f2e10-0d8c-4ba6-afcc-ae8b19b6b84e",
   "metadata": {},
   "outputs": [
    {
     "data": {
      "text/plain": [
       "<matplotlib.image.AxesImage at 0x219d61d0c20>"
      ]
     },
     "execution_count": 5,
     "metadata": {},
     "output_type": "execute_result"
    }
   ],
   "source": [
    "fig,ax = plt.subplots()\n",
    "ax.imshow(imarr.mean(axis=0))\n"
   ]
  },
  {
   "cell_type": "code",
   "execution_count": 6,
   "id": "8dd0bc76-5287-4462-98ac-59b0c2dec606",
   "metadata": {},
   "outputs": [
    {
     "data": {
      "text/plain": [
       "<Labels layer 'rois' at 0x219f757ac30>"
      ]
     },
     "execution_count": 6,
     "metadata": {},
     "output_type": "execute_result"
    }
   ],
   "source": [
    "viewer = napari.Viewer()\n",
    "viewer.add_image(imarr.mean(axis=0))\n",
    "viewer.add_labels(np.zeros_like(imarr.mean(axis=0),dtype=int), name = 'rois')"
   ]
  },
  {
   "cell_type": "code",
   "execution_count": 8,
   "id": "c0a9f25c-1ebb-4a72-8cff-e4ebc0055786",
   "metadata": {},
   "outputs": [],
   "source": [
    "mask = viewer.layers['rois'].data\n",
    "mask_exp = mask[np.newaxis,:,:]*np.ones_like(imarr)"
   ]
  },
  {
   "cell_type": "code",
   "execution_count": 9,
   "id": "a70afdb4-290e-4c2e-8dbb-5f8911c6ad82",
   "metadata": {},
   "outputs": [],
   "source": [
    "green_roi = np.array([imarr[t,:,:][mask==1].ravel().mean() for t in range(imarr.shape[0])])\n",
    "red_roi = np.array([imarr[t,:,:][mask==2].ravel().mean() for t in range(imarr.shape[0])])"
   ]
  },
  {
   "cell_type": "code",
   "execution_count": 10,
   "id": "942f5e4a-9c65-4cbc-9874-f982577ffcbc",
   "metadata": {},
   "outputs": [
    {
     "data": {
      "text/plain": [
       "[<matplotlib.lines.Line2D at 0x219e262c440>]"
      ]
     },
     "execution_count": 10,
     "metadata": {},
     "output_type": "execute_result"
    }
   ],
   "source": [
    "fig,ax = plt.subplots()\n",
    "ax.plot(green_roi)"
   ]
  },
  {
   "cell_type": "code",
   "execution_count": 11,
   "id": "e9d51448-e260-4b16-b4e6-aee730f018e6",
   "metadata": {},
   "outputs": [
    {
     "data": {
      "text/plain": [
       "[<matplotlib.lines.Line2D at 0x21a02f98920>]"
      ]
     },
     "execution_count": 11,
     "metadata": {},
     "output_type": "execute_result"
    }
   ],
   "source": [
    "fig, ax = plt.subplots()\n",
    "ax.plot(red_roi)"
   ]
  },
  {
   "cell_type": "code",
   "execution_count": null,
   "id": "f33e6e09-10e8-40e6-9e0b-bc2ce784d1d7",
   "metadata": {},
   "outputs": [],
   "source": []
  }
 ],
 "metadata": {
  "kernelspec": {
   "display_name": "Python 3 (ipykernel)",
   "language": "python",
   "name": "python3"
  },
  "language_info": {
   "codemirror_mode": {
    "name": "ipython",
    "version": 3
   },
   "file_extension": ".py",
   "mimetype": "text/x-python",
   "name": "python",
   "nbconvert_exporter": "python",
   "pygments_lexer": "ipython3",
   "version": "3.12.3"
  }
 },
 "nbformat": 4,
 "nbformat_minor": 5
}
