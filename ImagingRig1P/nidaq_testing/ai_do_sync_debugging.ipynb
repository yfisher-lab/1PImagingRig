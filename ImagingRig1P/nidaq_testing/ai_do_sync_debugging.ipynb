{
 "cells": [
  {
   "cell_type": "code",
   "execution_count": 1,
   "metadata": {},
   "outputs": [],
   "source": [
    "from typing import Tuple\n",
    "\n",
    "import nidaqmx.system._collections\n",
    "import nidaqmx.system._collections.physical_channel_collection\n",
    "import numpy as np\n",
    "import numpy.typing\n",
    "\n",
    "import nidaqmx\n",
    "from nidaqmx.constants import AcquisitionType, ProductCategory, LineGrouping\n",
    "from nidaqmx.constants import LoggingMode, LoggingOperation, READ_ALL_AVAILABLE\n",
    "import nidaqmx.system\n",
    "\n",
    "from matplotlib import pyplot as plt \n",
    "\n",
    "\n",
    "import ImagingRig1P as irp\n",
    "%matplotlib inline\n",
    "%load_ext autoreload\n",
    "%autoreload 2"
   ]
  },
  {
   "cell_type": "code",
   "execution_count": 15,
   "metadata": {},
   "outputs": [],
   "source": [
    "\n",
    "\n"
   ]
  },
  {
   "cell_type": "code",
   "execution_count": 18,
   "metadata": {},
   "outputs": [],
   "source": [
    "sample_rate = 10000\n",
    "duration = 10\n",
    "n_samples = int(sample_rate*duration)\n",
    "time = np.arange(0,10,1./sample_rate)\n",
    "\n",
    "\n",
    "do_data = {'camera_trigger': np.zeros([n_samples,]),\n",
    "           'led365_trigger': np.zeros([n_samples,])\n",
    "           }\n",
    "\n",
    "do_data['camera_trigger'][time>3]=1\n",
    "do_data['camera_trigger'][time>8]=0\n",
    "\n",
    "\n",
    "out_dir = \"C:\\\\Users\\\\fisherlab\\\\ni_debugging\\\\test_data.tdms\""
   ]
  },
  {
   "cell_type": "code",
   "execution_count": 19,
   "metadata": {},
   "outputs": [],
   "source": [
    "exp = irp.experiment_builder.Experiment(do_data, out_dir)"
   ]
  },
  {
   "cell_type": "code",
   "execution_count": 20,
   "metadata": {},
   "outputs": [
    {
     "data": {
      "text/plain": [
       "{'camera_trigger': array([False, False, False, ...,  True,  True,  True]),\n",
       " 'led365_trigger': array([False, False, False, ..., False, False, False])}"
      ]
     },
     "execution_count": 20,
     "metadata": {},
     "output_type": "execute_result"
    }
   ],
   "source": [
    "exp._do_dict"
   ]
  },
  {
   "cell_type": "code",
   "execution_count": 21,
   "metadata": {},
   "outputs": [
    {
     "name": "stdout",
     "output_type": "stream",
     "text": [
      "Dev1/port0/line0\n",
      "Dev1/port0/line1\n",
      "(2, 100000)\n"
     ]
    }
   ],
   "source": [
    "exp.run_tasks()"
   ]
  },
  {
   "cell_type": "code",
   "execution_count": null,
   "metadata": {},
   "outputs": [],
   "source": []
  }
 ],
 "metadata": {
  "kernelspec": {
   "display_name": "Python 3",
   "language": "python",
   "name": "python3"
  },
  "language_info": {
   "codemirror_mode": {
    "name": "ipython",
    "version": 3
   },
   "file_extension": ".py",
   "mimetype": "text/x-python",
   "name": "python",
   "nbconvert_exporter": "python",
   "pygments_lexer": "ipython3",
   "version": "3.11.10"
  }
 },
 "nbformat": 4,
 "nbformat_minor": 2
}
