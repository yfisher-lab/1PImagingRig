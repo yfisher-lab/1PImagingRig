{
 "cells": [
  {
   "cell_type": "code",
   "execution_count": 2,
   "metadata": {},
   "outputs": [],
   "source": [
    "from typing import Tuple\n",
    "import os\n",
    "\n",
    "import nidaqmx\n",
    "import nidaqmx.system._collections\n",
    "import nidaqmx.system._collections.physical_channel_collection\n",
    "import numpy as np\n",
    "import numpy.typing\n",
    "\n",
    "\n",
    "from nidaqmx.constants import AcquisitionType, ProductCategory, LineGrouping\n",
    "from nidaqmx.constants import LoggingMode, LoggingOperation, READ_ALL_AVAILABLE\n",
    "import nidaqmx.system\n",
    "\n",
    "from matplotlib import pyplot as plt \n",
    "\n",
    "\n",
    "import ImagingRig1P as irp\n",
    "%matplotlib inline\n",
    "%load_ext autoreload\n",
    "%autoreload 2"
   ]
  },
  {
   "cell_type": "code",
   "execution_count": 3,
   "metadata": {},
   "outputs": [],
   "source": [
    "import pandas as pd"
   ]
  },
  {
   "cell_type": "code",
   "execution_count": 4,
   "metadata": {},
   "outputs": [],
   "source": [
    "genotype = 'ER4d_sytjGCaMP7f_CsChrimsontdT'\n",
    "date = '23_10_2024'\n",
    "fly = 'fly2'\n",
    "\n"
   ]
  },
  {
   "cell_type": "markdown",
   "metadata": {},
   "source": [
    "### Opto pulses"
   ]
  },
  {
   "cell_type": "code",
   "execution_count": 10,
   "metadata": {},
   "outputs": [],
   "source": [
    "scan = 'opto_pulse'\n",
    "opto_powers = {'led450': np.nan,\n",
    "               'led550': np.nan,\n",
    "               'pump_compensation': np.nan, # PSI\n",
    "               'pump_pressure': np.nan # PSI\n",
    "               }"
   ]
  },
  {
   "cell_type": "code",
   "execution_count": 11,
   "metadata": {},
   "outputs": [
    {
     "name": "stdout",
     "output_type": "stream",
     "text": [
      "D:\\ER4d_sytjGCaMP7f_CsChrimsontdT\\23_10_2024\\fly2\\opto_pulse_5.tdms\n"
     ]
    }
   ],
   "source": [
    "sample_rate = 10000\n",
    "duration = 30\n",
    "n_samples = int(sample_rate*duration)\n",
    "time = np.arange(0,duration,1./sample_rate)\n",
    "\n",
    "\n",
    "do_data = {'camera_trigger': np.zeros([n_samples,]),\n",
    "           'led450_trigger': np.zeros([n_samples,]), # imaging\n",
    "           'led550_trigger': np.zeros([n_samples,]), # opto\n",
    "           'pump_trigger': np.zeros([n_samples,]), \n",
    "           }\n",
    "\n",
    "# trigger camera\n",
    "do_data['camera_trigger'][1:5000]=1\n",
    "\n",
    "# imaging led\n",
    "do_data['led450_trigger'][:-1]=1\n",
    "\n",
    "\n",
    "\n",
    "# stim every 5 seconds\n",
    "inter_stim_interval = 5\n",
    "init_delay = 3\n",
    "stim_dur = .1\n",
    "\n",
    "start_times = np.arange(init_delay,duration, inter_stim_interval)\n",
    "end_times = start_times+stim_dur\n",
    "for s, e in zip(start_times,end_times):\n",
    "    t_s, t_e = np.argmin(np.abs(time-s)), np.argmin(np.abs(time-e))\n",
    "    do_data['led550_trigger'][t_s:t_e]=1\n",
    "\n",
    "\n",
    "# set filename\n",
    "num = 0\n",
    "out_dir = f\"D:\\\\{genotype}\\\\{date}\\\\{fly}\\\\{scan}_{num}.tdms\"\n",
    "while os.path.exists(out_dir):\n",
    "    num +=1 \n",
    "    out_dir = f\"D:\\\\{genotype}\\\\{date}\\\\{fly}\\\\{scan}_{num}.tdms\"\n",
    "print(out_dir)"
   ]
  },
  {
   "cell_type": "code",
   "execution_count": 12,
   "metadata": {},
   "outputs": [
    {
     "name": "stdout",
     "output_type": "stream",
     "text": [
      "Dev1/port0/line0\n",
      "Dev1/port0/line2\n",
      "Dev1/port0/line3\n",
      "Dev1/port0/line5\n",
      "(4, 300000)\n"
     ]
    }
   ],
   "source": [
    "exp = irp.experiment_builder.Experiment(do_data, out_dir,\n",
    "                                        sample_rate = sample_rate, duration = duration)\n",
    "exp.run_tasks()"
   ]
  },
  {
   "cell_type": "markdown",
   "metadata": {},
   "source": [
    "### Opto and Pump pairing"
   ]
  },
  {
   "cell_type": "code",
   "execution_count": 13,
   "metadata": {},
   "outputs": [
    {
     "name": "stdout",
     "output_type": "stream",
     "text": [
      "D:\\ER4d_sytjGCaMP7f_CsChrimsontdT\\23_10_2024\\fly2\\opto_pump_pulse_0.tdms\n"
     ]
    }
   ],
   "source": [
    "scan = 'opto_pump_pulse'\n",
    "\n",
    "sample_rate = 10000\n",
    "duration = 70\n",
    "n_samples = int(sample_rate*duration)\n",
    "time = np.arange(0,duration,1./sample_rate)\n",
    "\n",
    "\n",
    "do_data = {'camera_trigger': np.zeros([n_samples,]),\n",
    "           'led450_trigger': np.zeros([n_samples,]), # imaging\n",
    "           'led550_trigger': np.zeros([n_samples,]), # opto\n",
    "           'pump_trigger': np.zeros([n_samples,]), \n",
    "           }\n",
    "\n",
    "# trigger camera\n",
    "do_data['camera_trigger'][1:5000]=1\n",
    "\n",
    "# imaging led\n",
    "do_data['led450_trigger'][:-1]=1\n",
    "\n",
    "\n",
    "\n",
    "# opto stim\n",
    "inter_stim_interval = .5\n",
    "init_delay = 3\n",
    "stim_dur = .1\n",
    "\n",
    "start_times = np.arange(init_delay,init_delay+60, inter_stim_interval)\n",
    "end_times = start_times + stim_dur\n",
    "for s, e in zip(start_times,end_times):\n",
    "    t_s, t_e = np.argmin(np.abs(time-s)), np.argmin(np.abs(time-e))\n",
    "    do_data['led550_trigger'][t_s:t_e]=1\n",
    "\n",
    "# pump stim\n",
    "init_delay = 3.3\n",
    "inter_stim_interval = 2\n",
    "stim_dur = 1\n",
    "start_times = np.arange(init_delay,init_delay+60, inter_stim_interval)\n",
    "end_times = start_times + stim_dur\n",
    "for s, e in zip(start_times,end_times):\n",
    "    t_s, t_e = np.argmin(np.abs(time-s)), np.argmin(np.abs(time-e))\n",
    "    do_data['pump_trigger'][t_s:t_e]=1\n",
    "\n",
    "\n",
    "\n",
    "num = 0\n",
    "out_dir = f\"D:\\\\{genotype}\\\\{date}\\\\{fly}\\\\{scan}_{num}.tdms\"\n",
    "while os.path.exists(out_dir):\n",
    "    num +=1 \n",
    "    out_dir = f\"D:\\\\{genotype}\\\\{date}\\\\{fly}\\\\{scan}_{num}.tdms\"\n",
    "print(out_dir)"
   ]
  },
  {
   "cell_type": "code",
   "execution_count": 14,
   "metadata": {},
   "outputs": [
    {
     "name": "stdout",
     "output_type": "stream",
     "text": [
      "Dev1/port0/line0\n",
      "Dev1/port0/line2\n",
      "Dev1/port0/line3\n",
      "Dev1/port0/line5\n",
      "(4, 700000)\n"
     ]
    }
   ],
   "source": [
    "exp = irp.experiment_builder.Experiment(do_data, out_dir,\n",
    "                                        sample_rate = sample_rate, duration = duration)\n",
    "exp.run_tasks()"
   ]
  },
  {
   "cell_type": "code",
   "execution_count": 115,
   "metadata": {},
   "outputs": [
    {
     "name": "stdout",
     "output_type": "stream",
     "text": [
      "Dev1/port0/line0\n",
      "Dev1/port0/line2\n",
      "Dev1/port0/line3\n",
      "Dev1/port0/line5\n",
      "(4, 500000)\n"
     ]
    }
   ],
   "source": []
  },
  {
   "cell_type": "code",
   "execution_count": 74,
   "metadata": {},
   "outputs": [],
   "source": [
    "from nptdms import TdmsFile\n",
    "\n",
    "tdms_file = TdmsFile.read(out_dir)\n",
    "# group = tdms_file['group name']\n",
    "# channel = group['channel name']\n",
    "# channel_data = channel[:]\n",
    "# channel_properties = channel.properties"
   ]
  },
  {
   "cell_type": "code",
   "execution_count": 37,
   "metadata": {},
   "outputs": [],
   "source": [
    "analog_inputs = tdms_file['analog_inputs']\n"
   ]
  },
  {
   "cell_type": "code",
   "execution_count": 58,
   "metadata": {},
   "outputs": [
    {
     "name": "stdout",
     "output_type": "stream",
     "text": [
      "[<TdmsChannel with path /'analog_inputs'/'Dev1/ai0'>, <TdmsChannel with path /'analog_inputs'/'Dev1/ai1'>, <TdmsChannel with path /'analog_inputs'/'Dev1/ai6'>]\n"
     ]
    }
   ],
   "source": [
    "channels = analog_inputs.channels()\n",
    "channels[:]\n",
    "print(channels)\n"
   ]
  },
  {
   "cell_type": "code",
   "execution_count": 53,
   "metadata": {},
   "outputs": [
    {
     "data": {
      "text/plain": [
       "[<TdmsChannel with path /'analog_inputs'/'Dev1/ai0'>,\n",
       " <TdmsChannel with path /'analog_inputs'/'Dev1/ai1'>,\n",
       " <TdmsChannel with path /'analog_inputs'/'Dev1/ai6'>]"
      ]
     },
     "execution_count": 53,
     "metadata": {},
     "output_type": "execute_result"
    }
   ],
   "source": [
    "analog_inputs.channels()"
   ]
  },
  {
   "cell_type": "code",
   "execution_count": 48,
   "metadata": {},
   "outputs": [],
   "source": [
    "time = channel.time_track()"
   ]
  },
  {
   "cell_type": "code",
   "execution_count": 51,
   "metadata": {},
   "outputs": [
    {
     "data": {
      "text/plain": [
       "10000.0"
      ]
     },
     "execution_count": 51,
     "metadata": {},
     "output_type": "execute_result"
    }
   ],
   "source": [
    "1/(time[1]-time[0])"
   ]
  },
  {
   "cell_type": "code",
   "execution_count": null,
   "metadata": {},
   "outputs": [],
   "source": []
  }
 ],
 "metadata": {
  "kernelspec": {
   "display_name": "Python 3 (ipykernel)",
   "language": "python",
   "name": "python3"
  },
  "language_info": {
   "codemirror_mode": {
    "name": "ipython",
    "version": 3
   },
   "file_extension": ".py",
   "mimetype": "text/x-python",
   "name": "python",
   "nbconvert_exporter": "python",
   "pygments_lexer": "ipython3",
   "version": "3.12.3"
  }
 },
 "nbformat": 4,
 "nbformat_minor": 4
}
